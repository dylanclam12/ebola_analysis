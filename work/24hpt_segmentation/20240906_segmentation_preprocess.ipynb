{
 "cells": [
  {
   "cell_type": "code",
   "execution_count": 1,
   "metadata": {},
   "outputs": [],
   "source": [
    "import numpy as np\n",
    "import pandas as pd\n",
    "import cv2\n",
    "import matplotlib.pyplot as plt\n",
    "from skimage.morphology import disk\n",
    "from skimage.filters import rank\n",
    "from skimage.util.dtype import dtype_range\n",
    "from skimage import exposure\n",
    "import dask_image.imread\n",
    "from skimage.filters import threshold_multiotsu\n",
    "from cellpose import models\n",
    "import napari\n",
    "import tifffile\n",
    "import dask.array as da"
   ]
  },
  {
   "cell_type": "markdown",
   "metadata": {},
   "source": [
    "## Plotting Function"
   ]
  },
  {
   "cell_type": "code",
   "execution_count": 2,
   "metadata": {},
   "outputs": [],
   "source": [
    "def plot_image(img):\n",
    "    plt.figure(figsize=(20, 20)) \n",
    "    plt.imshow(img)\n",
    "    plt.axis('off')\n",
    "    plt.show()"
   ]
  },
  {
   "cell_type": "markdown",
   "metadata": {},
   "source": [
    "## Image processing for full segmentation"
   ]
  },
  {
   "cell_type": "code",
   "execution_count": null,
   "metadata": {},
   "outputs": [],
   "source": [
    "def normalize_chunk(chunk):\n",
    "    kernel = np.ones((5, 5), np.uint8) \n",
    "    chunk_erode = cv2.erode(chunk, kernel, iterations=3)       \n",
    "    footprint = disk(100)\n",
    "    polyt_eq = rank.equalize(chunk_erode, footprint=footprint)\n",
    "    return polyt_eq\n",
    "\n",
    "# Load the image as a Dask array\n",
    "polyt_image = dask_image.imread.imread('raw/mosaic_PolyT_z0.tif')[0]\n",
    "\n",
    "chunks = (7555, 8881)\n",
    "polyt_image = polyt_image.rechunk(chunks)\n",
    "\n",
    "# Apply the normalization function to each chunk\n",
    "polyt = polyt_image.map_overlap(normalize_chunk, depth=200, trim=True, chunks=chunks)"
   ]
  },
  {
   "cell_type": "code",
   "execution_count": null,
   "metadata": {},
   "outputs": [],
   "source": [
    "#tifffile.imwrite('polyt_eq.tif', polyt.compute())"
   ]
  },
  {
   "cell_type": "code",
   "execution_count": null,
   "metadata": {},
   "outputs": [],
   "source": [
    "def erode_chunk(chunk):\n",
    "    kernel = np.ones((5, 5), np.uint8) \n",
    "    chunk_erode = cv2.erode(chunk, kernel, iterations=5)       \n",
    "    return chunk_erode\n",
    "\n",
    "# Load the image as a Dask array\n",
    "dapi_image = dask_image.imread.imread('raw/mosaic_DAPI_z0.tif')[0]\n",
    "\n",
    "chunks = (7555, 8881)\n",
    "dapi_image = dapi_image.rechunk(chunks)\n",
    "\n",
    "# Apply the normalization function to each chunk\n",
    "dapi = dapi_image.map_overlap(erode_chunk, depth=200, trim=True, chunks=chunks)"
   ]
  },
  {
   "cell_type": "code",
   "execution_count": null,
   "metadata": {},
   "outputs": [],
   "source": [
    "#tifffile.imwrite('dapi_erode.tif', dapi.compute())"
   ]
  },
  {
   "cell_type": "markdown",
   "metadata": {},
   "source": [
    "## Cellpose on crop"
   ]
  },
  {
   "cell_type": "code",
   "execution_count": null,
   "metadata": {},
   "outputs": [],
   "source": [
    "filename_pattern = 'raw/*.tif'\n",
    "images = dask_image.imread.imread(filename_pattern)"
   ]
  },
  {
   "cell_type": "code",
   "execution_count": null,
   "metadata": {},
   "outputs": [],
   "source": [
    "polyt = images[1, 15000:20000,15000:20000].compute()\n",
    "nuclei = imagesnuclei = images[0, 15000:20000,15000:20000].compute()"
   ]
  },
  {
   "cell_type": "code",
   "execution_count": null,
   "metadata": {},
   "outputs": [],
   "source": [
    "kernel = np.ones((5, 5), np.uint8) \n",
    "polyt_erode = cv2.erode(polyt, kernel, iterations=3)\n",
    "nuclei_erode = cv2.erode(nuclei, kernel, iterations=5)\n",
    "blank = np.zeros(nuclei.shape)"
   ]
  },
  {
   "cell_type": "code",
   "execution_count": null,
   "metadata": {},
   "outputs": [],
   "source": [
    "# Equalization\n",
    "footprint = disk(100)\n",
    "polyt_eq = rank.equalize(polyt_erode, footprint=footprint)"
   ]
  },
  {
   "cell_type": "code",
   "execution_count": null,
   "metadata": {},
   "outputs": [],
   "source": [
    "stacked_image = np.stack((blank, polyt_eq, nuclei_erode), axis=0)"
   ]
  },
  {
   "cell_type": "code",
   "execution_count": null,
   "metadata": {},
   "outputs": [],
   "source": [
    "model = models.Cellpose(gpu=True, model_type='cyto3')\n",
    "masks, flows, styles, diams = model.eval([stacked_image], diameter=130, channels=[2,3], flow_threshold=0.9, do_3D=False)"
   ]
  }
 ],
 "metadata": {
  "kernelspec": {
   "display_name": "ebola",
   "language": "python",
   "name": "python3"
  },
  "language_info": {
   "codemirror_mode": {
    "name": "ipython",
    "version": 3
   },
   "file_extension": ".py",
   "mimetype": "text/x-python",
   "name": "python",
   "nbconvert_exporter": "python",
   "pygments_lexer": "ipython3",
   "version": "3.10.14"
  }
 },
 "nbformat": 4,
 "nbformat_minor": 2
}
