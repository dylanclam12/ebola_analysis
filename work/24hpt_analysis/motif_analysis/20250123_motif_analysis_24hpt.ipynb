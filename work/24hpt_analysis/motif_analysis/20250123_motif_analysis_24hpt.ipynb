{
 "cells": [
  {
   "cell_type": "markdown",
   "metadata": {},
   "source": [
    "# Motif Analysis"
   ]
  },
  {
   "cell_type": "code",
   "execution_count": 1,
   "metadata": {
    "metadata": {}
   },
   "outputs": [],
   "source": [
    "import os\n",
    "import pandas as pd\n",
    "from Bio import SeqIO\n",
    "from Bio.SeqRecord import SeqRecord\n",
    "from Bio.Seq import Seq"
   ]
  },
  {
   "cell_type": "code",
   "execution_count": 2,
   "metadata": {
    "metadata": {}
   },
   "outputs": [],
   "source": [
    "target_directory = \"/mnt/d/ebola/data/FIMO/target_cds\"\n",
    "background_directory = \"/mnt/d/ebola/data/FIMO/background_cds\""
   ]
  },
  {
   "cell_type": "code",
   "execution_count": 3,
   "metadata": {
    "metadata": {}
   },
   "outputs": [],
   "source": [
    "def load_fasta_files(directory):\n",
    "    data = []\n",
    "    for filename in os.listdir(directory):\n",
    "        if filename.endswith(\".fa\"):\n",
    "            filepath = os.path.join(directory, filename)\n",
    "            for record in SeqIO.parse(filepath, \"fasta\"):\n",
    "                data.append(\n",
    "                    {\n",
    "                        \"gene\": filename.split(\".\")[0],\n",
    "                        \"header\": record.description,\n",
    "                        \"sequence\": str(record.seq),\n",
    "                    }\n",
    "                )\n",
    "\n",
    "    df = pd.DataFrame(data).set_index(\"gene\")\n",
    "    df[\"sequence_length\"] = df[\"sequence\"].str.len()\n",
    "    return df\n",
    "\n",
    "\n",
    "def dataframe_to_fasta(df, output_file):\n",
    "    records = []\n",
    "    for gene, row in df.iterrows():\n",
    "        seq_record = SeqRecord(\n",
    "            Seq(row[\"sequence\"]),\n",
    "            id=gene,\n",
    "            description=\"\",\n",
    "        )\n",
    "        records.append(seq_record)\n",
    "    SeqIO.write(records, output_file, \"fasta\")"
   ]
  },
  {
   "cell_type": "code",
   "execution_count": 4,
   "metadata": {
    "metadata": {}
   },
   "outputs": [],
   "source": [
    "target_df = load_fasta_files(target_directory)\n",
    "background_df = load_fasta_files(background_directory)"
   ]
  },
  {
   "cell_type": "code",
   "execution_count": 5,
   "metadata": {
    "metadata": {}
   },
   "outputs": [
    {
     "data": {
      "text/plain": [
       "1896.4285714285713"
      ]
     },
     "execution_count": 5,
     "metadata": {},
     "output_type": "execute_result"
    }
   ],
   "source": [
    "avg_length = target_df[\"sequence_length\"].mean()\n",
    "avg_length"
   ]
  },
  {
   "cell_type": "code",
   "execution_count": 6,
   "metadata": {
    "metadata": {}
   },
   "outputs": [],
   "source": [
    "background_df[\"distance\"] = (background_df[\"sequence\"].str.len() - avg_length).abs()\n",
    "background_60 = background_df.sort_values(by=\"distance\").head(60)"
   ]
  },
  {
   "cell_type": "code",
   "execution_count": 7,
   "metadata": {
    "metadata": {}
   },
   "outputs": [],
   "source": [
    "dataframe_to_fasta(target_df, \"target_cds.fa\")\n",
    "dataframe_to_fasta(background_60, \"background_cds.fa\")"
   ]
  },
  {
   "cell_type": "code",
   "execution_count": 15,
   "metadata": {
    "metadata": {}
   },
   "outputs": [
    {
     "data": {
      "text/html": [
       "<div>\n",
       "<style scoped>\n",
       "    .dataframe tbody tr th:only-of-type {\n",
       "        vertical-align: middle;\n",
       "    }\n",
       "\n",
       "    .dataframe tbody tr th {\n",
       "        vertical-align: top;\n",
       "    }\n",
       "\n",
       "    .dataframe thead th {\n",
       "        text-align: right;\n",
       "    }\n",
       "</style>\n",
       "<table border=\"1\" class=\"dataframe\">\n",
       "  <thead>\n",
       "    <tr style=\"text-align: right;\">\n",
       "      <th></th>\n",
       "      <th>header</th>\n",
       "      <th>sequence</th>\n",
       "      <th>sequence_length</th>\n",
       "      <th>distance</th>\n",
       "    </tr>\n",
       "    <tr>\n",
       "      <th>gene</th>\n",
       "      <th></th>\n",
       "      <th></th>\n",
       "      <th></th>\n",
       "      <th></th>\n",
       "    </tr>\n",
       "  </thead>\n",
       "  <tbody>\n",
       "    <tr>\n",
       "      <th>AMZ1</th>\n",
       "      <td>AMZ1-206 cds:protein_coding_CDS_not_defined</td>\n",
       "      <td></td>\n",
       "      <td>0</td>\n",
       "      <td>1896.428571</td>\n",
       "    </tr>\n",
       "    <tr>\n",
       "      <th>ANXA1</th>\n",
       "      <td>ANXA1-208 cds:protein_coding_CDS_not_defined</td>\n",
       "      <td></td>\n",
       "      <td>0</td>\n",
       "      <td>1896.428571</td>\n",
       "    </tr>\n",
       "    <tr>\n",
       "      <th>CMPK2</th>\n",
       "      <td>CMPK2-206 cds:protein_coding_CDS_not_defined</td>\n",
       "      <td></td>\n",
       "      <td>0</td>\n",
       "      <td>1896.428571</td>\n",
       "    </tr>\n",
       "    <tr>\n",
       "      <th>TMEM268</th>\n",
       "      <td>TMEM268-204 cds:protein_coding_CDS_not_defined</td>\n",
       "      <td></td>\n",
       "      <td>0</td>\n",
       "      <td>1896.428571</td>\n",
       "    </tr>\n",
       "    <tr>\n",
       "      <th>GBP2</th>\n",
       "      <td>GBP2-202 cds:retained_intron</td>\n",
       "      <td></td>\n",
       "      <td>0</td>\n",
       "      <td>1896.428571</td>\n",
       "    </tr>\n",
       "    <tr>\n",
       "      <th>PSMA5</th>\n",
       "      <td>PSMA5-204 cds:protein_coding_CDS_not_defined</td>\n",
       "      <td></td>\n",
       "      <td>0</td>\n",
       "      <td>1896.428571</td>\n",
       "    </tr>\n",
       "    <tr>\n",
       "      <th>SAT1</th>\n",
       "      <td>SAT1-202 cds:retained_intron</td>\n",
       "      <td></td>\n",
       "      <td>0</td>\n",
       "      <td>1896.428571</td>\n",
       "    </tr>\n",
       "    <tr>\n",
       "      <th>GPNMB</th>\n",
       "      <td>GPNMB-210 cds:protein_coding_CDS_not_defined</td>\n",
       "      <td></td>\n",
       "      <td>0</td>\n",
       "      <td>1896.428571</td>\n",
       "    </tr>\n",
       "    <tr>\n",
       "      <th>MNDA</th>\n",
       "      <td>MNDA-203 cds:protein_coding_CDS_not_defined</td>\n",
       "      <td></td>\n",
       "      <td>0</td>\n",
       "      <td>1896.428571</td>\n",
       "    </tr>\n",
       "    <tr>\n",
       "      <th>MX2</th>\n",
       "      <td>MX2-213 cds:retained_intron</td>\n",
       "      <td></td>\n",
       "      <td>0</td>\n",
       "      <td>1896.428571</td>\n",
       "    </tr>\n",
       "    <tr>\n",
       "      <th>PARP14</th>\n",
       "      <td>PARP14-204 cds:protein_coding_CDS_not_defined</td>\n",
       "      <td></td>\n",
       "      <td>0</td>\n",
       "      <td>1896.428571</td>\n",
       "    </tr>\n",
       "    <tr>\n",
       "      <th>IFIH1</th>\n",
       "      <td>IFIH1-205 cds:protein_coding_CDS_not_defined</td>\n",
       "      <td></td>\n",
       "      <td>0</td>\n",
       "      <td>1896.428571</td>\n",
       "    </tr>\n",
       "    <tr>\n",
       "      <th>UBA7</th>\n",
       "      <td>UBA7-210 cds:protein_coding_CDS_not_defined</td>\n",
       "      <td></td>\n",
       "      <td>0</td>\n",
       "      <td>1896.428571</td>\n",
       "    </tr>\n",
       "    <tr>\n",
       "      <th>ZNF225-AS1</th>\n",
       "      <td>ZNF225-AS1-202 cds:lncRNA</td>\n",
       "      <td></td>\n",
       "      <td>0</td>\n",
       "      <td>1896.428571</td>\n",
       "    </tr>\n",
       "    <tr>\n",
       "      <th>C2</th>\n",
       "      <td>C2-238 cds:retained_intron</td>\n",
       "      <td></td>\n",
       "      <td>0</td>\n",
       "      <td>1896.428571</td>\n",
       "    </tr>\n",
       "  </tbody>\n",
       "</table>\n",
       "</div>"
      ],
      "text/plain": [
       "                                                    header sequence  \\\n",
       "gene                                                                  \n",
       "AMZ1           AMZ1-206 cds:protein_coding_CDS_not_defined            \n",
       "ANXA1         ANXA1-208 cds:protein_coding_CDS_not_defined            \n",
       "CMPK2         CMPK2-206 cds:protein_coding_CDS_not_defined            \n",
       "TMEM268     TMEM268-204 cds:protein_coding_CDS_not_defined            \n",
       "GBP2                          GBP2-202 cds:retained_intron            \n",
       "PSMA5         PSMA5-204 cds:protein_coding_CDS_not_defined            \n",
       "SAT1                          SAT1-202 cds:retained_intron            \n",
       "GPNMB         GPNMB-210 cds:protein_coding_CDS_not_defined            \n",
       "MNDA           MNDA-203 cds:protein_coding_CDS_not_defined            \n",
       "MX2                            MX2-213 cds:retained_intron            \n",
       "PARP14       PARP14-204 cds:protein_coding_CDS_not_defined            \n",
       "IFIH1         IFIH1-205 cds:protein_coding_CDS_not_defined            \n",
       "UBA7           UBA7-210 cds:protein_coding_CDS_not_defined            \n",
       "ZNF225-AS1                       ZNF225-AS1-202 cds:lncRNA            \n",
       "C2                              C2-238 cds:retained_intron            \n",
       "\n",
       "            sequence_length     distance  \n",
       "gene                                      \n",
       "AMZ1                      0  1896.428571  \n",
       "ANXA1                     0  1896.428571  \n",
       "CMPK2                     0  1896.428571  \n",
       "TMEM268                   0  1896.428571  \n",
       "GBP2                      0  1896.428571  \n",
       "PSMA5                     0  1896.428571  \n",
       "SAT1                      0  1896.428571  \n",
       "GPNMB                     0  1896.428571  \n",
       "MNDA                      0  1896.428571  \n",
       "MX2                       0  1896.428571  \n",
       "PARP14                    0  1896.428571  \n",
       "IFIH1                     0  1896.428571  \n",
       "UBA7                      0  1896.428571  \n",
       "ZNF225-AS1                0  1896.428571  \n",
       "C2                        0  1896.428571  "
      ]
     },
     "execution_count": 15,
     "metadata": {},
     "output_type": "execute_result"
    }
   ],
   "source": [
    "background_df.sort_values(by=\"sequence_length\", ascending=True).head(15)"
   ]
  },
  {
   "cell_type": "code",
   "execution_count": null,
   "metadata": {},
   "outputs": [],
   "source": []
  }
 ],
 "metadata": {
  "kernelspec": {
   "display_name": "ebola",
   "language": "python",
   "name": "python3"
  },
  "language_info": {
   "codemirror_mode": {
    "name": "ipython",
    "version": 3
   },
   "file_extension": ".py",
   "mimetype": "text/x-python",
   "name": "python",
   "nbconvert_exporter": "python",
   "pygments_lexer": "ipython3",
   "version": "3.11.8"
  }
 },
 "nbformat": 4,
 "nbformat_minor": 2
}
