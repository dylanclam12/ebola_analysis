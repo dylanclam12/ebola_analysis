{
 "cells": [
  {
   "cell_type": "code",
   "execution_count": 1,
   "metadata": {
    "metadata": {}
   },
   "outputs": [
    {
     "name": "stdout",
     "output_type": "stream",
     "text": [
      "Processing /mnt/d/ebola/data/RNAup/AKT3/AKT3_ENST00000673466_1.fa...\n",
      "Overwritten /mnt/d/ebola/data/RNAup/AKT3/AKT3_ENST00000673466_1.fa with combined sequence.\n",
      "Processing /mnt/d/ebola/data/RNAup/CD9/CD9_ENST00000009180_10.fa...\n",
      "Overwritten /mnt/d/ebola/data/RNAup/CD9/CD9_ENST00000009180_10.fa with combined sequence.\n",
      "Processing /mnt/d/ebola/data/RNAup/CLIP1/CLIP1_ENST00000361654_8.fa...\n",
      "Overwritten /mnt/d/ebola/data/RNAup/CLIP1/CLIP1_ENST00000361654_8.fa with combined sequence.\n",
      "Processing /mnt/d/ebola/data/RNAup/DCP1A/DCP1A_ENST00000610213_6.fa...\n",
      "Overwritten /mnt/d/ebola/data/RNAup/DCP1A/DCP1A_ENST00000610213_6.fa with combined sequence.\n",
      "Processing /mnt/d/ebola/data/RNAup/EHD4/EHD4_ENST00000220325_9.fa...\n",
      "Overwritten /mnt/d/ebola/data/RNAup/EHD4/EHD4_ENST00000220325_9.fa with combined sequence.\n",
      "Processing /mnt/d/ebola/data/RNAup/EIF2AK2/EIF2AK2_ENST00000233057_9.fa...\n",
      "Overwritten /mnt/d/ebola/data/RNAup/EIF2AK2/EIF2AK2_ENST00000233057_9.fa with combined sequence.\n",
      "Processing /mnt/d/ebola/data/RNAup/HSPH1/HSPH1_ENST00000630972_2.fa...\n",
      "Overwritten /mnt/d/ebola/data/RNAup/HSPH1/HSPH1_ENST00000630972_2.fa with combined sequence.\n",
      "Processing /mnt/d/ebola/data/RNAup/IARS1/IARS1_ENST00000447699_7.fa...\n",
      "Overwritten /mnt/d/ebola/data/RNAup/IARS1/IARS1_ENST00000447699_7.fa with combined sequence.\n",
      "Processing /mnt/d/ebola/data/RNAup/LAP3/LAP3_ENST00000606142_5.fa...\n",
      "Overwritten /mnt/d/ebola/data/RNAup/LAP3/LAP3_ENST00000606142_5.fa with combined sequence.\n",
      "Processing /mnt/d/ebola/data/RNAup/MAP3K5/MAP3K5_ENST00000359015_5.fa...\n",
      "Overwritten /mnt/d/ebola/data/RNAup/MAP3K5/MAP3K5_ENST00000359015_5.fa with combined sequence.\n",
      "Processing /mnt/d/ebola/data/RNAup/MEX3A/MEX3A_ENST00000532414_3.fa...\n",
      "Overwritten /mnt/d/ebola/data/RNAup/MEX3A/MEX3A_ENST00000532414_3.fa with combined sequence.\n",
      "Processing /mnt/d/ebola/data/RNAup/MOV10/MOV10_ENST00000369644_5.fa...\n",
      "Overwritten /mnt/d/ebola/data/RNAup/MOV10/MOV10_ENST00000369644_5.fa with combined sequence.\n",
      "Processing /mnt/d/ebola/data/RNAup/NFE2L1/NFE2L1_ENST00000357480_9.fa...\n",
      "Overwritten /mnt/d/ebola/data/RNAup/NFE2L1/NFE2L1_ENST00000357480_9.fa with combined sequence.\n",
      "Processing /mnt/d/ebola/data/RNAup/ODC1/ODC1_ENST00000234111_9.fa...\n",
      "Overwritten /mnt/d/ebola/data/RNAup/ODC1/ODC1_ENST00000234111_9.fa with combined sequence.\n",
      "Processing /mnt/d/ebola/data/RNAup/OTUD3/OTUD3_ENST00000375120_4.fa...\n",
      "Overwritten /mnt/d/ebola/data/RNAup/OTUD3/OTUD3_ENST00000375120_4.fa with combined sequence.\n",
      "Processing /mnt/d/ebola/data/RNAup/PFKFB3/PFKFB3_ENST00000379789_8.fa...\n",
      "Overwritten /mnt/d/ebola/data/RNAup/PFKFB3/PFKFB3_ENST00000379789_8.fa with combined sequence.\n",
      "Processing /mnt/d/ebola/data/RNAup/SHISA5/SHISA5_ENST00000426002_5.fa...\n",
      "Overwritten /mnt/d/ebola/data/RNAup/SHISA5/SHISA5_ENST00000426002_5.fa with combined sequence.\n",
      "Processing /mnt/d/ebola/data/RNAup/SLC25A28/SLC25A28_ENST00000370495_6.fa...\n",
      "Overwritten /mnt/d/ebola/data/RNAup/SLC25A28/SLC25A28_ENST00000370495_6.fa with combined sequence.\n",
      "Processing /mnt/d/ebola/data/RNAup/SWAP70/SWAP70_ENST00000318950_11.fa...\n",
      "Overwritten /mnt/d/ebola/data/RNAup/SWAP70/SWAP70_ENST00000318950_11.fa with combined sequence.\n",
      "Processing /mnt/d/ebola/data/RNAup/TRIM25/TRIM25_ENST00000316881_9.fa...\n",
      "Overwritten /mnt/d/ebola/data/RNAup/TRIM25/TRIM25_ENST00000316881_9.fa with combined sequence.\n",
      "Processing /mnt/d/ebola/data/RNAup/WARS1/WARS1_ENST00000358655_8.fa...\n",
      "Overwritten /mnt/d/ebola/data/RNAup/WARS1/WARS1_ENST00000358655_8.fa with combined sequence.\n"
     ]
    }
   ],
   "source": [
    "import os\n",
    "from collections import defaultdict\n",
    "\n",
    "\n",
    "def combine_fasta(path):\n",
    "    \"\"\"\n",
    "    Reads a FASTA file, combines multi-line sequences into a single line,\n",
    "    and overwrites the original file with the reformatted FASTA.\n",
    "    \"\"\"\n",
    "    seq = defaultdict(str)\n",
    "    # Read and combine the sequences\n",
    "    with open(path, \"r\") as f:\n",
    "        curr_header = None\n",
    "        for line in f:\n",
    "            line = line.strip()\n",
    "            if not line:\n",
    "                continue  # Skip blank lines\n",
    "            if line.startswith(\">\"):\n",
    "                curr_header = line  # use the entire header line\n",
    "                seq[curr_header] = \"\"\n",
    "            else:\n",
    "                # Append the sequence line without any spaces\n",
    "                seq[curr_header] += line\n",
    "    # Overwrite the original file with the combined sequences\n",
    "    with open(path, \"w\") as f:\n",
    "        for header, sequence in seq.items():\n",
    "            f.write(f\"{header}\\n{sequence}\\n\\n\")\n",
    "\n",
    "\n",
    "# Define the parent folder containing your 21 subfolders\n",
    "parent_folder = \"/mnt/d/ebola/data/RNAup\"  # Change this to your actual path\n",
    "\n",
    "# Loop through each subfolder\n",
    "for subdir in os.listdir(parent_folder):\n",
    "    subdir_path = os.path.join(parent_folder, subdir)\n",
    "    if os.path.isdir(subdir_path):\n",
    "        # Look for a FASTA file in this subfolder.\n",
    "        # (Modify the extension check if your files use a different naming convention.)\n",
    "        for filename in os.listdir(subdir_path):\n",
    "            if filename.endswith(\".fa\") or filename.endswith(\".fasta\"):\n",
    "                fasta_path = os.path.join(subdir_path, filename)\n",
    "                print(f\"Processing {fasta_path}...\")\n",
    "                combine_fasta(fasta_path)\n",
    "                print(f\"Overwritten {fasta_path} with combined sequence.\")"
   ]
  },
  {
   "cell_type": "code",
   "execution_count": null,
   "metadata": {},
   "outputs": [],
   "source": []
  }
 ],
 "metadata": {
  "kernelspec": {
   "display_name": "ebola",
   "language": "python",
   "name": "python3"
  },
  "language_info": {
   "codemirror_mode": {
    "name": "ipython",
    "version": 3
   },
   "file_extension": ".py",
   "mimetype": "text/x-python",
   "name": "python",
   "nbconvert_exporter": "python",
   "pygments_lexer": "ipython3",
   "version": "3.11.8"
  }
 },
 "nbformat": 4,
 "nbformat_minor": 2
}
