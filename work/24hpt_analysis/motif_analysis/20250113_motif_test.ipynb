{
 "cells": [
  {
   "cell_type": "markdown",
   "metadata": {},
   "source": [
    "# Motif Analysis"
   ]
  },
  {
   "cell_type": "code",
   "execution_count": 1,
   "metadata": {
    "metadata": {}
   },
   "outputs": [],
   "source": [
    "import scanpy as sc\n",
    "import pandas as pd\n",
    "import numpy as np\n",
    "import matplotlib.pyplot as plt\n",
    "import seaborn as sns\n",
    "import decoupler as dc\n",
    "import bento as bt\n",
    "import spatialdata as sd\n",
    "import dask.dataframe as dd\n",
    "\n",
    "%matplotlib inline\n",
    "\n",
    "%load_ext autoreload\n",
    "%autoreload 2"
   ]
  },
  {
   "cell_type": "code",
   "execution_count": 2,
   "metadata": {
    "metadata": {}
   },
   "outputs": [
    {
     "data": {
      "text/plain": [
       "SpatialData object, with associated Zarr store: /mnt/d/ebola/data/24hpt.zarr\n",
       "├── Images\n",
       "│     ├── '202406121440_HEK293T-VS219-24HPT-CompA-S1_VMSC12502_region_0_z0': DataTree[cyx] (10, 68947, 81046), (10, 34473, 40523), (10, 17236, 20261), (10, 8618, 10130), (10, 4309, 5065)\n",
       "│     ├── 'condensate_multiotsu': DataArray[cyx] (1, 68947, 81046)\n",
       "│     ├── 'dapi_processed': DataArray[cyx] (1, 68947, 81046)\n",
       "│     └── 'polyt_processed': DataArray[cyx] (1, 68947, 81046)\n",
       "├── Points\n",
       "│     └── '202406121440_HEK293T-VS219-24HPT-CompA-S1_VMSC12502_region_0_transcripts': DataFrame with shape: (<Delayed>, 9) (2D points)\n",
       "├── Shapes\n",
       "│     ├── '202406121440_HEK293T-VS219-24HPT-CompA-S1_VMSC12502_region_0_polygons': GeoDataFrame shape: (118813, 9) (2D shapes)\n",
       "│     ├── 'cellpose_boundaries': GeoDataFrame shape: (95878, 1) (2D shapes)\n",
       "│     ├── 'cellpose_nucleus_boundaries': GeoDataFrame shape: (103286, 1) (2D shapes)\n",
       "│     ├── 'condensate_shapes': GeoDataFrame shape: (130864, 1) (2D shapes)\n",
       "│     ├── 'cyto_no_cond': GeoDataFrame shape: (95804, 2) (2D shapes)\n",
       "│     ├── 'small_condensates': GeoDataFrame shape: (31351, 2) (2D shapes)\n",
       "│     └── 'sopa_patches': GeoDataFrame shape: (255, 3) (2D shapes)\n",
       "└── Tables\n",
       "      └── 'table': AnnData (200080, 136)\n",
       "with coordinate systems:\n",
       "    ▸ 'global', with elements:\n",
       "        202406121440_HEK293T-VS219-24HPT-CompA-S1_VMSC12502_region_0_z0 (Images), condensate_multiotsu (Images), dapi_processed (Images), polyt_processed (Images), 202406121440_HEK293T-VS219-24HPT-CompA-S1_VMSC12502_region_0_transcripts (Points), 202406121440_HEK293T-VS219-24HPT-CompA-S1_VMSC12502_region_0_polygons (Shapes), cellpose_boundaries (Shapes), cellpose_nucleus_boundaries (Shapes), condensate_shapes (Shapes), cyto_no_cond (Shapes), small_condensates (Shapes), sopa_patches (Shapes)"
      ]
     },
     "execution_count": 2,
     "metadata": {},
     "output_type": "execute_result"
    }
   ],
   "source": [
    "sdata = sd.read_zarr(\"/mnt/d/ebola/data/24hpt.zarr\")\n",
    "sdata"
   ]
  },
  {
   "cell_type": "code",
   "execution_count": 3,
   "metadata": {
    "metadata": {}
   },
   "outputs": [],
   "source": [
    "points_key = \"202406121440_HEK293T-VS219-24HPT-CompA-S1_VMSC12502_region_0_transcripts\"\n",
    "points = sdata[points_key]\n",
    "pt_transform = sd.transformations.get_transformation(\n",
    "    points\n",
    ")  # Get transformation saved in object\n",
    "points = (\n",
    "    sd.transform(points, pt_transform).reset_index(drop=True).compute()\n",
    ")  # Apply transformation\n",
    "\n",
    "# Format data for sdata\n",
    "points = sd.models.PointsModel.parse(\n",
    "    dd.from_pandas(points, npartitions=1),\n",
    "    coordinates={\"x\": \"x\", \"y\": \"y\"},\n",
    ")\n",
    "# points.attrs = attrs\n",
    "sdata.points[\"transcripts\"] = points"
   ]
  },
  {
   "cell_type": "code",
   "execution_count": 4,
   "metadata": {
    "metadata": {}
   },
   "outputs": [
    {
     "data": {
      "application/vnd.jupyter.widget-view+json": {
       "model_id": "e81ddb451ff9446aa3851acf38a209b9",
       "version_major": 2,
       "version_minor": 0
      },
      "text/plain": [
       "  0%|          | 0/3 [00:00<?, ?it/s]"
      ]
     },
     "metadata": {},
     "output_type": "display_data"
    },
    {
     "data": {
      "text/plain": [
       "SpatialData object, with associated Zarr store: /mnt/d/ebola/data/24hpt.zarr\n",
       "├── Images\n",
       "│     ├── '202406121440_HEK293T-VS219-24HPT-CompA-S1_VMSC12502_region_0_z0': DataTree[cyx] (10, 68947, 81046), (10, 34473, 40523), (10, 17236, 20261), (10, 8618, 10130), (10, 4309, 5065)\n",
       "│     ├── 'condensate_multiotsu': DataArray[cyx] (1, 68947, 81046)\n",
       "│     ├── 'dapi_processed': DataArray[cyx] (1, 68947, 81046)\n",
       "│     └── 'polyt_processed': DataArray[cyx] (1, 68947, 81046)\n",
       "├── Points\n",
       "│     ├── '202406121440_HEK293T-VS219-24HPT-CompA-S1_VMSC12502_region_0_transcripts': DataFrame with shape: (<Delayed>, 9) (2D points)\n",
       "│     └── 'transcripts': DataFrame with shape: (<Delayed>, 13) (2D points)\n",
       "├── Shapes\n",
       "│     ├── '202406121440_HEK293T-VS219-24HPT-CompA-S1_VMSC12502_region_0_polygons': GeoDataFrame shape: (118813, 9) (2D shapes)\n",
       "│     ├── 'cellpose_boundaries': GeoDataFrame shape: (95878, 5) (2D shapes)\n",
       "│     ├── 'cellpose_nucleus_boundaries': GeoDataFrame shape: (103286, 2) (2D shapes)\n",
       "│     ├── 'condensate_shapes': GeoDataFrame shape: (130864, 1) (2D shapes)\n",
       "│     ├── 'cyto_no_cond': GeoDataFrame shape: (95804, 2) (2D shapes)\n",
       "│     ├── 'small_condensates': GeoDataFrame shape: (31351, 2) (2D shapes)\n",
       "│     └── 'sopa_patches': GeoDataFrame shape: (255, 3) (2D shapes)\n",
       "└── Tables\n",
       "      └── 'table': AnnData (95878, 180)\n",
       "with coordinate systems:\n",
       "    ▸ 'global', with elements:\n",
       "        202406121440_HEK293T-VS219-24HPT-CompA-S1_VMSC12502_region_0_z0 (Images), condensate_multiotsu (Images), dapi_processed (Images), polyt_processed (Images), 202406121440_HEK293T-VS219-24HPT-CompA-S1_VMSC12502_region_0_transcripts (Points), transcripts (Points), 202406121440_HEK293T-VS219-24HPT-CompA-S1_VMSC12502_region_0_polygons (Shapes), cellpose_boundaries (Shapes), cellpose_nucleus_boundaries (Shapes), condensate_shapes (Shapes), cyto_no_cond (Shapes), small_condensates (Shapes), sopa_patches (Shapes)\n",
       "with the following elements not in the Zarr store:\n",
       "    ▸ transcripts (Points)"
      ]
     },
     "execution_count": 4,
     "metadata": {},
     "output_type": "execute_result"
    }
   ],
   "source": [
    "bt.io.prep(\n",
    "    sdata,\n",
    "    points_key=\"transcripts\",\n",
    "    feature_key=\"gene\",\n",
    "    instance_key=\"cellpose_boundaries\",\n",
    "    shape_keys=[\n",
    "        \"cellpose_boundaries\",\n",
    "        \"cellpose_nucleus_boundaries\",\n",
    "        \"small_condensates\",\n",
    "        \"cyto_no_cond\",\n",
    "    ],\n",
    ")"
   ]
  },
  {
   "cell_type": "code",
   "execution_count": 5,
   "metadata": {
    "metadata": {}
   },
   "outputs": [
    {
     "data": {
      "application/vnd.jupyter.widget-view+json": {
       "model_id": "b2aaefd2727f4923a9b4445bcf8a20e0",
       "version_major": 2,
       "version_minor": 0
      },
      "text/plain": [
       "  0%|          | 0/4 [00:00<?, ?it/s]"
      ]
     },
     "metadata": {},
     "output_type": "display_data"
    }
   ],
   "source": [
    "bt.tl.analyze_shapes(\n",
    "    sdata,\n",
    "    shape_keys=[\n",
    "        \"small_condensates\",\n",
    "        \"cyto_no_cond\",\n",
    "        \"cellpose_nucleus_boundaries\",\n",
    "        \"cellpose_boundaries\",\n",
    "    ],\n",
    "    feature_names=[\"density\"],\n",
    "    recompute=True,\n",
    ")"
   ]
  },
  {
   "cell_type": "markdown",
   "metadata": {},
   "source": [
    "## Calculate Density Ratio"
   ]
  },
  {
   "cell_type": "code",
   "execution_count": 6,
   "metadata": {
    "metadata": {}
   },
   "outputs": [],
   "source": [
    "sdata[\"small_condensates_table\"] = sdata.aggregate(\n",
    "    values=\"transcripts\",\n",
    "    by=\"small_condensates\",\n",
    "    value_key=\"gene\",\n",
    "    agg_func=\"count\",\n",
    "    instance_key=\"cellpose_boundaries\",\n",
    ")[\"table\"]\n",
    "\n",
    "sdata[\"cyto_no_cond_table\"] = sdata.aggregate(\n",
    "    values=\"transcripts\",\n",
    "    by=\"cyto_no_cond\",\n",
    "    value_key=\"gene\",\n",
    "    agg_func=\"count\",\n",
    "    instance_key=\"cellpose_boundaries\",\n",
    ")[\"table\"]\n",
    "\n",
    "sdata[\"nucleus_table\"] = sdata.aggregate(\n",
    "    values=\"transcripts\",\n",
    "    by=\"cellpose_nucleus_boundaries\",\n",
    "    value_key=\"gene\",\n",
    "    agg_func=\"count\",\n",
    "    instance_key=\"cellpose_boundaries\",\n",
    ")[\"table\"]\n"
   ]
  },
  {
   "cell_type": "code",
   "execution_count": 7,
   "metadata": {
    "metadata": {}
   },
   "outputs": [],
   "source": [
    "condensate_density = (\n",
    "    sdata[\"small_condensates\"]\n",
    "    .set_index(\"cellpose_boundaries\")[\"small_condensates_density\"]\n",
    "    .dropna()\n",
    ")\n",
    "\n",
    "# Drop cells whose index name is nan\n",
    "condensate_density = condensate_density[condensate_density.index.notna()]\n",
    "\n",
    "cytoplasm_density = (\n",
    "    sdata[\"cyto_no_cond\"]\n",
    "    .set_index(\"cellpose_boundaries\")[\"cyto_no_cond_density\"]\n",
    "    .dropna()\n",
    ")\n",
    "\n",
    "nucleus_density = (\n",
    "    sdata[\"cellpose_nucleus_boundaries\"]\n",
    "    .set_index(\"cellpose_boundaries\")[\"cellpose_nucleus_boundaries_density\"]\n",
    "    .dropna()\n",
    ")\n",
    "\n",
    "nucleus_density = nucleus_density[nucleus_density.index.notna()]\n",
    "\n",
    "cell_density = sdata[\"cellpose_boundaries\"][\"cellpose_boundaries_density\"].dropna()"
   ]
  },
  {
   "cell_type": "code",
   "execution_count": 8,
   "metadata": {
    "metadata": {}
   },
   "outputs": [],
   "source": [
    "densities = pd.concat(\n",
    "    [condensate_density, cytoplasm_density, nucleus_density, cell_density], axis=1\n",
    ").dropna()\n",
    "\n",
    "density_ratios = densities.divide(densities[\"cellpose_boundaries_density\"], axis=0)"
   ]
  },
  {
   "cell_type": "code",
   "execution_count": 9,
   "metadata": {
    "metadata": {}
   },
   "outputs": [],
   "source": [
    "# Define the key for cell boundaries\n",
    "cell_key = \"cellpose_boundaries\"\n",
    "\n",
    "# Get cell areas\n",
    "cell_area = sdata[cell_key][cell_key + \"_area\"]\n",
    "\n",
    "# Get cell count data\n",
    "cell_count = sdata[\"table\"].to_df()\n",
    "\n",
    "# Get condensate measurements\n",
    "cond_cell_index = sdata[\"small_condensates\"][\n",
    "    cell_key\n",
    "].dropna()  # Get condensate to cell index mapping\n",
    "cond_area = (  # Get area of each condensate ordered by cell order\n",
    "    sdata[\"small_condensates\"]\n",
    "    .set_index(cell_key)\n",
    "    .loc[cond_cell_index, \"small_condensates_area\"]\n",
    "    .reindex(cell_area.index)\n",
    "    .fillna(0)\n",
    ")\n",
    "cond_count = (  # Get count of transcripts in each condensate ordered by cell order\n",
    "    sdata[\"small_condensates_table\"].to_df().reindex(cell_area.index).fillna(0)\n",
    ")\n",
    "\n",
    "# Get nucleus measurements\n",
    "nucleus_index = sdata[\"cellpose_nucleus_boundaries\"][\n",
    "    cell_key\n",
    "].dropna()  # Get condensate to cell index mapping\n",
    "nucleus_area = (  # Get area of each condensate ordered by cell order\n",
    "    sdata[\"cellpose_nucleus_boundaries\"]\n",
    "    .set_index(cell_key)\n",
    "    .loc[nucleus_index, \"cellpose_nucleus_boundaries_area\"]\n",
    "    .reindex(cell_area.index)\n",
    "    .fillna(0)\n",
    ")\n",
    "nucleus_count = (  # Get count of transcripts in each condensate ordered by cell order\n",
    "    sdata[\"nucleus_table\"].to_df().reindex(cell_area.index).fillna(0)\n",
    ")\n",
    "\n",
    "# Process cytoplasm data\n",
    "cyto_cell_index = sdata[\"cyto_no_cond\"][cell_key]  # Get cytoplasm to cell index mapping\n",
    "cyto_area = (  # Get area of each cytoplasm ordered by cell order\n",
    "    sdata[\"cyto_no_cond\"]\n",
    "    .set_index(cell_key)\n",
    "    .loc[cyto_cell_index, \"cyto_no_cond_area\"]\n",
    "    .reindex(cell_area.index)\n",
    "    .fillna(0)\n",
    ")\n",
    "cyto_count = (  # Get count of transcripts in each cytoplasm ordered by cell order\n",
    "    sdata[\"cyto_no_cond_table\"]\n",
    "    .to_df()\n",
    "    .set_index(cyto_cell_index)\n",
    "    .reindex(cell_area.index)\n",
    "    .fillna(0)\n",
    ")"
   ]
  },
  {
   "cell_type": "markdown",
   "metadata": {},
   "source": [
    "## Filter cells and genes\n",
    "\n",
    "- filter out cells with no condensates\n",
    "- filter out genes not expressed in at least .5% of cells\n",
    "- filter out cells with low expression"
   ]
  },
  {
   "cell_type": "code",
   "execution_count": 10,
   "metadata": {
    "metadata": {}
   },
   "outputs": [
    {
     "data": {
      "text/plain": [
       "small_condensates_area\n",
       "False    0.673032\n",
       "True     0.326968\n",
       "Name: count, dtype: float64"
      ]
     },
     "execution_count": 10,
     "metadata": {},
     "output_type": "execute_result"
    }
   ],
   "source": [
    "has_nucleus = nucleus_area > 0\n",
    "has_nucleus.value_counts() / len(has_nucleus)\n",
    "\n",
    "# Has condensate filter\n",
    "has_condensates = cond_area > 0\n",
    "has_condensates.value_counts() / len(has_condensates)"
   ]
  },
  {
   "cell_type": "code",
   "execution_count": 11,
   "metadata": {
    "metadata": {}
   },
   "outputs": [],
   "source": [
    "# Filter cell properties with condensates\n",
    "cell_area = cell_area[has_condensates & has_nucleus]\n",
    "cell_count = cell_count[has_condensates & has_nucleus]\n",
    "\n",
    "# filter condensate properties with condensates\n",
    "cond_area = cond_area[has_condensates & has_nucleus]\n",
    "cond_count = cond_count[has_condensates & has_nucleus]\n",
    "\n",
    "# filter nucleus properties with condensates\n",
    "nucleus_area = nucleus_area[has_condensates & has_nucleus]\n",
    "nucleus_count = nucleus_count[has_condensates & has_nucleus]\n",
    "\n",
    "# filter cytoplasm properties with condensates\n",
    "cyto_area = cyto_area[has_condensates & has_nucleus]\n",
    "cyto_count = cyto_count[has_condensates & has_nucleus]"
   ]
  },
  {
   "cell_type": "code",
   "execution_count": 12,
   "metadata": {
    "metadata": {}
   },
   "outputs": [
    {
     "data": {
      "image/png": "[encoded data removed]",
      "text/plain": [
       "<Figure size 640x480 with 1 Axes>"
      ]
     },
     "metadata": {},
     "output_type": "display_data"
    },
    {
     "data": {
      "text/plain": [
       "True     25417\n",
       "False     1311\n",
       "Name: count, dtype: int64"
      ]
     },
     "execution_count": 12,
     "metadata": {},
     "output_type": "execute_result"
    }
   ],
   "source": [
    "log_cell_expr = np.log2(cell_count.sum(axis=1) + 1)\n",
    "min_expr = np.percentile(log_cell_expr, 5)\n",
    "ax = log_cell_expr.hist(bins=100)\n",
    "ax.axvline(min_expr, color=\"red\", linestyle=\"--\")\n",
    "ax.text(\n",
    "    min_expr,\n",
    "    ax.get_ylim()[1],\n",
    "    f\"{min_expr:.2f} ({min_expr**2 + 1:.2f})\\n5th percentile\",\n",
    "    ha=\"right\",\n",
    "    va=\"top\",\n",
    ")\n",
    "plt.xlabel(\"log2(count)\")\n",
    "plt.ylabel(\"cells\")\n",
    "plt.title(\"Cell Expression (log2)\")\n",
    "plt.show()\n",
    "\n",
    "valid_cells = log_cell_expr >= min_expr\n",
    "valid_cells.value_counts()\n"
   ]
  },
  {
   "cell_type": "code",
   "execution_count": 13,
   "metadata": {
    "metadata": {}
   },
   "outputs": [],
   "source": [
    "# Filter cells\n",
    "cell_area = cell_area[valid_cells]\n",
    "cell_count = cell_count[valid_cells]\n",
    "\n",
    "# filter condensates\n",
    "cond_area = cond_area[valid_cells]\n",
    "cond_count = cond_count[valid_cells]\n",
    "\n",
    "# filter nucleus\n",
    "nucleus_area = nucleus_area[valid_cells]\n",
    "nucleus_count = nucleus_count[valid_cells]\n",
    "\n",
    "# filter cytoplasms\n",
    "cyto_area = cyto_area[valid_cells]\n",
    "cyto_count = cyto_count[valid_cells]"
   ]
  },
  {
   "cell_type": "code",
   "execution_count": 14,
   "metadata": {
    "metadata": {}
   },
   "outputs": [],
   "source": [
    "with open(\"RNA_lengths.txt\", \"r\") as f:\n",
    "    rna_lengths = pd.read_csv(f, sep=\"\\t\", index_col=\"gene\")"
   ]
  },
  {
   "cell_type": "code",
   "execution_count": 15,
   "metadata": {
    "metadata": {}
   },
   "outputs": [],
   "source": [
    "target_genes = [\n",
    "    \"AKT3\",\n",
    "    \"BCL7A\",\n",
    "    \"CCND3\",\n",
    "    \"CD9\",\n",
    "    \"CLIP1\",\n",
    "    \"DCP1A\",\n",
    "    \"E2F7\",\n",
    "    \"EHD4\",\n",
    "    \"PKR\",\n",
    "    \"GPATCH11\",\n",
    "    \"HSPH1\",\n",
    "    \"IARS\",\n",
    "    \"LAP3\",\n",
    "    \"MAP3K5\",\n",
    "    \"MEX3A\",\n",
    "    \"MOV10\",\n",
    "    \"NFE2L1\",\n",
    "    \"ODC1\",\n",
    "    \"OTUD3\",\n",
    "    \"PFKFB3\",\n",
    "    \"SAMHD1\",\n",
    "    \"SCOTIN\",\n",
    "    \"SLC25A28\",\n",
    "    \"STAT1\",\n",
    "    \"SWAP70\",\n",
    "    \"TRIM25\",\n",
    "    \"UBXN1\",\n",
    "    \"WARS\",\n",
    "    \"ZAP\",\n",
    "]\n",
    "\n",
    "with open(\"target_genes.txt\", \"w\") as file:\n",
    "    for gene in target_genes:\n",
    "        file.write(gene + \"\\n\")"
   ]
  },
  {
   "cell_type": "code",
   "execution_count": 16,
   "metadata": {
    "metadata": {}
   },
   "outputs": [],
   "source": [
    "target_length = rna_lengths.loc[target_genes][\"length\"].mean()\n",
    "nontarget_gene_lengths = rna_lengths[~rna_lengths.index.isin(target_genes)]\n",
    "nontarget_gene_lengths[\"abs_diff\"] = abs(\n",
    "    nontarget_gene_lengths[\"length\"] - target_length\n",
    ")"
   ]
  },
  {
   "cell_type": "code",
   "execution_count": 17,
   "metadata": {
    "metadata": {}
   },
   "outputs": [
    {
     "data": {
      "image/png": "[encoded data removed]",
      "text/plain": [
       "<Figure size 640x480 with 1 Axes>"
      ]
     },
     "metadata": {},
     "output_type": "display_data"
    }
   ],
   "source": [
    "# Plot the histogram\n",
    "sns.histplot(data=nontarget_gene_lengths, x=\"length\", bins=20, kde=True)\n",
    "plt.xlabel(\"Lengths\")  # Optional: Label for x-axis\n",
    "plt.ylabel(\"Frequency\")  # Optional: Label for y-axis\n",
    "plt.title(\"Histogram of RNA Lengths\")  # Optional: Title\n",
    "plt.show()"
   ]
  },
  {
   "cell_type": "code",
   "execution_count": 18,
   "metadata": {
    "metadata": {}
   },
   "outputs": [],
   "source": [
    "background_genes = nontarget_gene_lengths.sort_values(\"abs_diff\").head(50).index\n",
    "\n",
    "with open(\"background_genes.txt\", \"w\") as file:\n",
    "    for gene in background_genes:\n",
    "        file.write(gene + \"\\n\")"
   ]
  },
  {
   "cell_type": "code",
   "execution_count": 19,
   "metadata": {
    "metadata": {}
   },
   "outputs": [
    {
     "data": {
      "text/plain": [
       "4361.862068965517"
      ]
     },
     "execution_count": 19,
     "metadata": {},
     "output_type": "execute_result"
    }
   ],
   "source": [
    "target_length"
   ]
  },
  {
   "cell_type": "code",
   "execution_count": 20,
   "metadata": {
    "metadata": {}
   },
   "outputs": [
    {
     "data": {
      "text/html": [
       "<div>\n",
       "<style scoped>\n",
       "    .dataframe tbody tr th:only-of-type {\n",
       "        vertical-align: middle;\n",
       "    }\n",
       "\n",
       "    .dataframe tbody tr th {\n",
       "        vertical-align: top;\n",
       "    }\n",
       "\n",
       "    .dataframe thead th {\n",
       "        text-align: right;\n",
       "    }\n",
       "</style>\n",
       "<table border=\"1\" class=\"dataframe\">\n",
       "  <thead>\n",
       "    <tr style=\"text-align: right;\">\n",
       "      <th></th>\n",
       "      <th>length</th>\n",
       "      <th>abs_diff</th>\n",
       "    </tr>\n",
       "    <tr>\n",
       "      <th>gene</th>\n",
       "      <th></th>\n",
       "      <th></th>\n",
       "    </tr>\n",
       "  </thead>\n",
       "  <tbody>\n",
       "    <tr>\n",
       "      <th>ZNF10</th>\n",
       "      <td>4406</td>\n",
       "      <td>44.137931</td>\n",
       "    </tr>\n",
       "    <tr>\n",
       "      <th>IFIT1</th>\n",
       "      <td>4302</td>\n",
       "      <td>59.862069</td>\n",
       "    </tr>\n",
       "    <tr>\n",
       "      <th>MORC3</th>\n",
       "      <td>4224</td>\n",
       "      <td>137.862069</td>\n",
       "    </tr>\n",
       "    <tr>\n",
       "      <th>DDX58</th>\n",
       "      <td>4628</td>\n",
       "      <td>266.137931</td>\n",
       "    </tr>\n",
       "    <tr>\n",
       "      <th>BTG1</th>\n",
       "      <td>4629</td>\n",
       "      <td>267.137931</td>\n",
       "    </tr>\n",
       "    <tr>\n",
       "      <th>NANOS1</th>\n",
       "      <td>4017</td>\n",
       "      <td>344.862069</td>\n",
       "    </tr>\n",
       "    <tr>\n",
       "      <th>HSPA5</th>\n",
       "      <td>3921</td>\n",
       "      <td>440.862069</td>\n",
       "    </tr>\n",
       "    <tr>\n",
       "      <th>SLC16A1</th>\n",
       "      <td>3910</td>\n",
       "      <td>451.862069</td>\n",
       "    </tr>\n",
       "    <tr>\n",
       "      <th>CTCFL</th>\n",
       "      <td>3864</td>\n",
       "      <td>497.862069</td>\n",
       "    </tr>\n",
       "    <tr>\n",
       "      <th>PARP12</th>\n",
       "      <td>3796</td>\n",
       "      <td>565.862069</td>\n",
       "    </tr>\n",
       "    <tr>\n",
       "      <th>MTSS1</th>\n",
       "      <td>4944</td>\n",
       "      <td>582.137931</td>\n",
       "    </tr>\n",
       "    <tr>\n",
       "      <th>HERC6</th>\n",
       "      <td>3779</td>\n",
       "      <td>582.862069</td>\n",
       "    </tr>\n",
       "    <tr>\n",
       "      <th>IFIT2</th>\n",
       "      <td>3703</td>\n",
       "      <td>658.862069</td>\n",
       "    </tr>\n",
       "    <tr>\n",
       "      <th>TDRD7</th>\n",
       "      <td>3688</td>\n",
       "      <td>673.862069</td>\n",
       "    </tr>\n",
       "    <tr>\n",
       "      <th>HERC5</th>\n",
       "      <td>3511</td>\n",
       "      <td>850.862069</td>\n",
       "    </tr>\n",
       "    <tr>\n",
       "      <th>GBP2</th>\n",
       "      <td>3461</td>\n",
       "      <td>900.862069</td>\n",
       "    </tr>\n",
       "    <tr>\n",
       "      <th>JAK2</th>\n",
       "      <td>5285</td>\n",
       "      <td>923.137931</td>\n",
       "    </tr>\n",
       "    <tr>\n",
       "      <th>LEP</th>\n",
       "      <td>3427</td>\n",
       "      <td>934.862069</td>\n",
       "    </tr>\n",
       "    <tr>\n",
       "      <th>RSAD2</th>\n",
       "      <td>3407</td>\n",
       "      <td>954.862069</td>\n",
       "    </tr>\n",
       "    <tr>\n",
       "      <th>TACR3</th>\n",
       "      <td>5359</td>\n",
       "      <td>997.137931</td>\n",
       "    </tr>\n",
       "    <tr>\n",
       "      <th>CX3CL1</th>\n",
       "      <td>3285</td>\n",
       "      <td>1076.862069</td>\n",
       "    </tr>\n",
       "    <tr>\n",
       "      <th>OASL</th>\n",
       "      <td>3266</td>\n",
       "      <td>1095.862069</td>\n",
       "    </tr>\n",
       "    <tr>\n",
       "      <th>APOL4</th>\n",
       "      <td>3227</td>\n",
       "      <td>1134.862069</td>\n",
       "    </tr>\n",
       "    <tr>\n",
       "      <th>ZNF225-AS1</th>\n",
       "      <td>3199</td>\n",
       "      <td>1162.862069</td>\n",
       "    </tr>\n",
       "    <tr>\n",
       "      <th>PARP9</th>\n",
       "      <td>3198</td>\n",
       "      <td>1163.862069</td>\n",
       "    </tr>\n",
       "    <tr>\n",
       "      <th>EPSTI1</th>\n",
       "      <td>3114</td>\n",
       "      <td>1247.862069</td>\n",
       "    </tr>\n",
       "    <tr>\n",
       "      <th>ADAMTS15</th>\n",
       "      <td>5673</td>\n",
       "      <td>1311.137931</td>\n",
       "    </tr>\n",
       "    <tr>\n",
       "      <th>LGALS9</th>\n",
       "      <td>3018</td>\n",
       "      <td>1343.862069</td>\n",
       "    </tr>\n",
       "    <tr>\n",
       "      <th>LPAR6</th>\n",
       "      <td>3004</td>\n",
       "      <td>1357.862069</td>\n",
       "    </tr>\n",
       "    <tr>\n",
       "      <th>BTN3A3</th>\n",
       "      <td>2970</td>\n",
       "      <td>1391.862069</td>\n",
       "    </tr>\n",
       "    <tr>\n",
       "      <th>FLT1</th>\n",
       "      <td>2969</td>\n",
       "      <td>1392.862069</td>\n",
       "    </tr>\n",
       "    <tr>\n",
       "      <th>CASP8</th>\n",
       "      <td>2930</td>\n",
       "      <td>1431.862069</td>\n",
       "    </tr>\n",
       "    <tr>\n",
       "      <th>APOL1</th>\n",
       "      <td>2918</td>\n",
       "      <td>1443.862069</td>\n",
       "    </tr>\n",
       "    <tr>\n",
       "      <th>RCOR2</th>\n",
       "      <td>2915</td>\n",
       "      <td>1446.862069</td>\n",
       "    </tr>\n",
       "    <tr>\n",
       "      <th>OAS2</th>\n",
       "      <td>2908</td>\n",
       "      <td>1453.862069</td>\n",
       "    </tr>\n",
       "    <tr>\n",
       "      <th>TXNIP</th>\n",
       "      <td>2905</td>\n",
       "      <td>1456.862069</td>\n",
       "    </tr>\n",
       "    <tr>\n",
       "      <th>PML</th>\n",
       "      <td>2885</td>\n",
       "      <td>1476.862069</td>\n",
       "    </tr>\n",
       "    <tr>\n",
       "      <th>IFIH1</th>\n",
       "      <td>2795</td>\n",
       "      <td>1566.862069</td>\n",
       "    </tr>\n",
       "    <tr>\n",
       "      <th>DDX60</th>\n",
       "      <td>6015</td>\n",
       "      <td>1653.137931</td>\n",
       "    </tr>\n",
       "    <tr>\n",
       "      <th>IRF8</th>\n",
       "      <td>2668</td>\n",
       "      <td>1693.862069</td>\n",
       "    </tr>\n",
       "    <tr>\n",
       "      <th>NAP1L3</th>\n",
       "      <td>2649</td>\n",
       "      <td>1712.862069</td>\n",
       "    </tr>\n",
       "    <tr>\n",
       "      <th>CPEB4</th>\n",
       "      <td>2607</td>\n",
       "      <td>1754.862069</td>\n",
       "    </tr>\n",
       "    <tr>\n",
       "      <th>KCNA3</th>\n",
       "      <td>2476</td>\n",
       "      <td>1885.862069</td>\n",
       "    </tr>\n",
       "    <tr>\n",
       "      <th>IFIT3</th>\n",
       "      <td>2455</td>\n",
       "      <td>1906.862069</td>\n",
       "    </tr>\n",
       "    <tr>\n",
       "      <th>CMPK2</th>\n",
       "      <td>2417</td>\n",
       "      <td>1944.862069</td>\n",
       "    </tr>\n",
       "    <tr>\n",
       "      <th>MICB</th>\n",
       "      <td>2411</td>\n",
       "      <td>1950.862069</td>\n",
       "    </tr>\n",
       "    <tr>\n",
       "      <th>GPAM</th>\n",
       "      <td>6372</td>\n",
       "      <td>2010.137931</td>\n",
       "    </tr>\n",
       "    <tr>\n",
       "      <th>DNAJA1</th>\n",
       "      <td>2319</td>\n",
       "      <td>2042.862069</td>\n",
       "    </tr>\n",
       "    <tr>\n",
       "      <th>SQSTM1</th>\n",
       "      <td>2253</td>\n",
       "      <td>2108.862069</td>\n",
       "    </tr>\n",
       "    <tr>\n",
       "      <th>FPR3</th>\n",
       "      <td>2222</td>\n",
       "      <td>2139.862069</td>\n",
       "    </tr>\n",
       "  </tbody>\n",
       "</table>\n",
       "</div>"
      ],
      "text/plain": [
       "            length     abs_diff\n",
       "gene                           \n",
       "ZNF10         4406    44.137931\n",
       "IFIT1         4302    59.862069\n",
       "MORC3         4224   137.862069\n",
       "DDX58         4628   266.137931\n",
       "BTG1          4629   267.137931\n",
       "NANOS1        4017   344.862069\n",
       "HSPA5         3921   440.862069\n",
       "SLC16A1       3910   451.862069\n",
       "CTCFL         3864   497.862069\n",
       "PARP12        3796   565.862069\n",
       "MTSS1         4944   582.137931\n",
       "HERC6         3779   582.862069\n",
       "IFIT2         3703   658.862069\n",
       "TDRD7         3688   673.862069\n",
       "HERC5         3511   850.862069\n",
       "GBP2          3461   900.862069\n",
       "JAK2          5285   923.137931\n",
       "LEP           3427   934.862069\n",
       "RSAD2         3407   954.862069\n",
       "TACR3         5359   997.137931\n",
       "CX3CL1        3285  1076.862069\n",
       "OASL          3266  1095.862069\n",
       "APOL4         3227  1134.862069\n",
       "ZNF225-AS1    3199  1162.862069\n",
       "PARP9         3198  1163.862069\n",
       "EPSTI1        3114  1247.862069\n",
       "ADAMTS15      5673  1311.137931\n",
       "LGALS9        3018  1343.862069\n",
       "LPAR6         3004  1357.862069\n",
       "BTN3A3        2970  1391.862069\n",
       "FLT1          2969  1392.862069\n",
       "CASP8         2930  1431.862069\n",
       "APOL1         2918  1443.862069\n",
       "RCOR2         2915  1446.862069\n",
       "OAS2          2908  1453.862069\n",
       "TXNIP         2905  1456.862069\n",
       "PML           2885  1476.862069\n",
       "IFIH1         2795  1566.862069\n",
       "DDX60         6015  1653.137931\n",
       "IRF8          2668  1693.862069\n",
       "NAP1L3        2649  1712.862069\n",
       "CPEB4         2607  1754.862069\n",
       "KCNA3         2476  1885.862069\n",
       "IFIT3         2455  1906.862069\n",
       "CMPK2         2417  1944.862069\n",
       "MICB          2411  1950.862069\n",
       "GPAM          6372  2010.137931\n",
       "DNAJA1        2319  2042.862069\n",
       "SQSTM1        2253  2108.862069\n",
       "FPR3          2222  2139.862069"
      ]
     },
     "execution_count": 20,
     "metadata": {},
     "output_type": "execute_result"
    }
   ],
   "source": [
    "nontarget_gene_lengths.sort_values(\"abs_diff\").head(50)"
   ]
  },
  {
   "cell_type": "code",
   "execution_count": null,
   "metadata": {},
   "outputs": [],
   "source": []
  }
 ],
 "metadata": {
  "kernelspec": {
   "display_name": "ebola",
   "language": "python",
   "name": "python3"
  },
  "language_info": {
   "codemirror_mode": {
    "name": "ipython",
    "version": 3
   },
   "file_extension": ".py",
   "mimetype": "text/x-python",
   "name": "python",
   "nbconvert_exporter": "python",
   "pygments_lexer": "ipython3",
   "version": "3.11.8"
  }
 },
 "nbformat": 4,
 "nbformat_minor": 2
}
